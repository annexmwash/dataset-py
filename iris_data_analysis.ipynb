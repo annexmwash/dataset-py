{
 "cells": [
  {
   "cell_type": "markdown",
   "id": "4d916bcb",
   "metadata": {},
   "source": [
    "# Iris Dataset Analysis\n",
    "This notebook covers data loading, exploration, basic analysis, and visualizations using the Iris dataset."
   ]
  },
  {
   "cell_type": "code",
   "execution_count": null,
   "id": "29f82279",
   "metadata": {},
   "outputs": [],
   "source": [
    "import pandas as pd\n",
    "import matplotlib.pyplot as plt\n",
    "import seaborn as sns"
   ]
  },
  {
   "cell_type": "code",
   "execution_count": null,
   "id": "e4e44742",
   "metadata": {},
   "outputs": [],
   "source": [
    "# QUESTION 1\n",
    "\n",
    "# Task 1: Load and Explore the Dataset and  Load the Iris dataset\n",
    "try:\n",
    "    df = sns.load_dataset(\"iris\")\n",
    "\n",
    "# Display the first few rows of the dataset\n",
    "    print(\"First 5 rows of the dataset:\")\n",
    "    print(df.head())\n",
    "\n",
    " # Explore the structure: Data types\n",
    "    print(\"\\nData types and missing values:\")\n",
    "    print(df.info())\n",
    "\n",
    "\n",
    "    # Check for missing values\n",
    "    print(\"\\nMissing values:\")\n",
    "    print(df.isnull().sum())\n",
    "\n",
    "#   cleaning the dataset\n",
    "    df = df.dropna()\n",
    "except FileNotFoundError:\n",
    "    print(\"Error: The dataset file was not found.\")\n",
    "except pd.errors.EmptyDataError:\n",
    "    print(\"Error: The dataset file is empty.\")\n",
    "except Exception as e:\n",
    "    print(f\"An unexpected error occurred: {e}\")"
   ]
  },
  {
   "cell_type": "code",
   "execution_count": null,
   "id": "e8afb08a",
   "metadata": {},
   "outputs": [],
   "source": [
    "# QUESTION TWO\n",
    "# Basic statistics\n",
    "print(\"\\nBasic statistical description:\")\n",
    "print(df.describe())\n",
    "\n",
    "# Group by species and compute mean of numeric columns\n",
    "print(\"\\nMean values grouped by species:\")\n",
    "grouped_means = df.groupby(\"species\").mean()\n",
    "print(grouped_means)\n",
    "\n",
    "# Observating\n",
    "print(\"\\nObservation:\")\n",
    "print(\"Setosa tends to have smaller petal length and width compared to Versicolor and Virginica.\")"
   ]
  },
  {
   "cell_type": "code",
   "execution_count": null,
   "id": "8ad28d7e",
   "metadata": {},
   "outputs": [],
   "source": [
    "# QUESTION 3\n",
    "# data visualisation\n",
    "sns.set(style=\"whitegrid\")\n",
    "\n",
    "# 1. Line Chart: Simulated trend (e.g., mean petal length over index)\n",
    "plt.figure(figsize=(10, 5))\n",
    "df_sorted = df.sort_values(by=\"petal_length\")\n",
    "plt.plot(df_sorted.index, df_sorted[\"petal_length\"], label='Petal Length')\n",
    "plt.title(\"Line Chart - Petal Length Trend\")\n",
    "plt.xlabel(\"Index\")\n",
    "plt.ylabel(\"Petal Length\")\n",
    "plt.legend()\n",
    "plt.show()"
   ]
  },
  {
   "cell_type": "code",
   "execution_count": null,
   "id": "9cbf3b8a",
   "metadata": {},
   "outputs": [],
   "source": [
    "# 2. Bar Chart: Average petal length per species\n",
    "plt.figure(figsize=(8, 5))\n",
    "sns.barplot(x=\"species\", y=\"petal_length\", data=df)\n",
    "plt.title(\"Bar Chart - Average Petal Length per Species\")\n",
    "plt.xlabel(\"Species\")\n",
    "plt.ylabel(\"Average Petal Length\")\n",
    "plt.show()"
   ]
  },
  {
   "cell_type": "code",
   "execution_count": null,
   "id": "b7403080",
   "metadata": {},
   "outputs": [],
   "source": [
    "# 3. Histogram: Distribution of Sepal Length\n",
    "plt.figure(figsize=(8, 5))\n",
    "plt.hist(df[\"sepal_length\"], bins=15, color='skyblue', edgecolor='black')\n",
    "plt.title(\"Histogram - Sepal Length Distribution\")\n",
    "plt.xlabel(\"Sepal Length\")\n",
    "plt.ylabel(\"Frequency\")\n",
    "plt.show()"
   ]
  },
  {
   "cell_type": "code",
   "execution_count": null,
   "id": "2a2db53a",
   "metadata": {},
   "outputs": [],
   "source": [
    "\n",
    "# 4. Scatter Plot: Sepal Length vs Petal Length\n",
    "plt.figure(figsize=(8, 5))\n",
    "sns.scatterplot(data=df, x=\"sepal_length\", y=\"petal_length\", hue=\"species\")\n",
    "plt.title(\"Scatter Plot - Sepal Length vs Petal Length\")\n",
    "plt.xlabel(\"Sepal Length\")\n",
    "plt.ylabel(\"Petal Length\")\n",
    "plt.legend()\n",
    "plt.show()"
   ]
  }
 ],
 "metadata": {
  "language_info": {
   "name": "python"
  }
 },
 "nbformat": 4,
 "nbformat_minor": 5
}
